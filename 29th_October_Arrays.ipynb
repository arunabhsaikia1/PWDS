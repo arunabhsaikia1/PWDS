{
 "cells": [
  {
   "cell_type": "markdown",
   "id": "45eb30ad",
   "metadata": {},
   "source": [
    "## Arrays"
   ]
  },
  {
   "cell_type": "markdown",
   "id": "22428b94",
   "metadata": {},
   "source": [
    "1. Given an array, check if it contains any duplicates or not.\n",
    "arr = [1, 2, 4, 2, 5, 9]\n",
    "Output = True"
   ]
  },
  {
   "cell_type": "code",
   "execution_count": 5,
   "id": "94b6f614",
   "metadata": {},
   "outputs": [
    {
     "data": {
      "text/plain": [
       "True"
      ]
     },
     "execution_count": 5,
     "metadata": {},
     "output_type": "execute_result"
    }
   ],
   "source": [
    "# Function Definition\n",
    "def check_duplicates(arr):\n",
    "    \n",
    "    # Loop to traverse through each number\n",
    "    for i in range(len(arr)):\n",
    "        # Check if the number exists in the rest of the array\n",
    "        if arr[i] in arr[i+1:]:\n",
    "            # Return true if even one number repeates\n",
    "            return True\n",
    "    \n",
    "    # Return False after all the numbers are checked\n",
    "    return False\n",
    "\n",
    "# Test\n",
    "check_duplicates([1,2,4,2,5,9])"
   ]
  },
  {
   "cell_type": "markdown",
   "id": "691c54ea",
   "metadata": {},
   "source": [
    "2. Given an array and an integer k, rotate the array to the right by k steps.\n",
    "arr = [1, 2, 3, 4, 5, 6, 7] k = 3\n",
    "Output = [5, 6, 7, 1, 2, 3, 4]\n"
   ]
  },
  {
   "cell_type": "code",
   "execution_count": 16,
   "id": "95e4e856",
   "metadata": {},
   "outputs": [
    {
     "name": "stdout",
     "output_type": "stream",
     "text": [
      "The original array is: [1, 2, 3, 4, 5, 6, 7]\n",
      "The rotated array is: [5, 6, 7, 1, 2, 3, 4]\n"
     ]
    }
   ],
   "source": [
    "# Function to rotate an array to the right by k steps\n",
    "def rotate_array(array, k):\n",
    "  # Get the length of the array\n",
    "  n = len(array)\n",
    "  # If the array is empty or k is zero, return the array as it is\n",
    "  if n == 0 or k == 0:\n",
    "    return array\n",
    "  # if k > n, use modulo to get the effective number of steps to rotate\n",
    "  elif k>n:\n",
    "    k = k % n\n",
    "  # Use slicing to get the last k elements and the first n-k elements of the array\n",
    "  last_k = array[-k:]\n",
    "  first_n_k = array[:-k]\n",
    "  # Concatenate the two slices and return the result\n",
    "  return last_k + first_n_k\n",
    "\n",
    "# Test\n",
    "array = [1, 2, 3, 4, 5, 6, 7]\n",
    "k = 3\n",
    "print(\"The original array is:\", array)\n",
    "print(\"The rotated array is:\", rotate_array(array, k))\n"
   ]
  },
  {
   "cell_type": "markdown",
   "id": "e6fef6a1",
   "metadata": {},
   "source": [
    "3. Reverse the given array in-place, means without using any extra data structure.\n",
    "arr = [2, 4, 5, 7, 9, 12]\n",
    "Output = [12, 9, 7, 5, 4, 2]"
   ]
  },
  {
   "cell_type": "code",
   "execution_count": 20,
   "id": "e8df3ff3",
   "metadata": {},
   "outputs": [
    {
     "name": "stdout",
     "output_type": "stream",
     "text": [
      "The original array is: [2, 4, 5, 7, 9, 12]\n",
      "The reversed array is: [12, 9, 7, 5, 4, 2]\n"
     ]
    }
   ],
   "source": [
    "# Function to reverse an array in-place\n",
    "def reverse_array(array):\n",
    "    # Get the length of the array\n",
    "    n = len(array)\n",
    "    \n",
    "    for i in range(n//2):\n",
    "        # Declare a temporary variable\n",
    "        temp = array[i]\n",
    "        # Swap the array element with it's counterpart at the other end of the array\n",
    "        array[i] = array[-(i+1)]\n",
    "        array[-(i+1)] = temp\n",
    "        \n",
    "    # Return the reversed array    \n",
    "    return array\n",
    "        \n",
    "# Test\n",
    "array = [2, 4, 5, 7, 9, 12]\n",
    "print(\"The original array is:\", array)\n",
    "print(\"The reversed array is:\", reverse_array(array))\n",
    "\n"
   ]
  },
  {
   "cell_type": "markdown",
   "id": "a6b5ebb8",
   "metadata": {},
   "source": [
    "4. Given an array of integers, find the maximum element in an array\n",
    "arr = [10, 5, 20, 8, 15]\n",
    "Output = 20"
   ]
  },
  {
   "cell_type": "code",
   "execution_count": 24,
   "id": "4ad58b80",
   "metadata": {},
   "outputs": [
    {
     "name": "stdout",
     "output_type": "stream",
     "text": [
      "The maximum value in the array is: 20\n"
     ]
    }
   ],
   "source": [
    "# Function to find the max in an array of integers\n",
    "def find_max(arr):\n",
    "    # Declare a max variable and assign the first element\n",
    "    max = arr[0]\n",
    "    \n",
    "    # Check the array for integer greater than max\n",
    "    for i in range(len(arr)):\n",
    "        # If ith element is greater than max, assign that as max\n",
    "        if arr[i] > max:\n",
    "            max = arr[i]\n",
    "            \n",
    "    # Return the maximum value        \n",
    "    return max\n",
    "\n",
    "# Test\n",
    "arr = [10, 5, 20, 8, 15]\n",
    "print(\"The maximum value in the array is:\", find_max(arr))\n",
    "\n"
   ]
  },
  {
   "cell_type": "markdown",
   "id": "ca0f9608",
   "metadata": {},
   "source": [
    "5. Given a sorted array, remove the duplicate element without using any extra data structure.\n",
    "arr = [1, 1, 2, 2, 2, 3, 3, 4, 4, 4, 5, 5]\n",
    "Output = [1, 2, 3, 4, 5]"
   ]
  },
  {
   "cell_type": "code",
   "execution_count": 15,
   "id": "b60cd55f",
   "metadata": {},
   "outputs": [
    {
     "name": "stdout",
     "output_type": "stream",
     "text": [
      "The original array is: [1, 2, 2, 3, 4, 4, 5]\n",
      "The modified array is: [1, 2, 3, 4, 5]\n"
     ]
    }
   ],
   "source": [
    "# Function to remove duplicates from a sorted array\n",
    "def remove_duplicates(array):\n",
    "  # Get the length of the array\n",
    "  n = len(array)\n",
    "  # If the array is empty or has only one element, return the array as it is\n",
    "  if n <= 1:\n",
    "    return array\n",
    "  # Otherwise, initialize a pointer to the first element\n",
    "  i = 0\n",
    "  # Use a loop to iterate over the rest of the array\n",
    "  for j in range(1, n):\n",
    "    # If the current element is different from the last unique element\n",
    "    if array[j] != array[i]:\n",
    "      # Increment the pointer and copy the current element to its position\n",
    "      i += 1\n",
    "      array[i] = array[j]\n",
    "  # Return the array up to the pointer position\n",
    "  return array[:i+1]\n",
    "\n",
    "# Test\n",
    "array = [1, 2, 2, 3, 4, 4, 5]\n",
    "print(\"The original array is:\", array)\n",
    "print(\"The modified array is:\", remove_duplicates(array))"
   ]
  },
  {
   "cell_type": "code",
   "execution_count": null,
   "id": "1975e642",
   "metadata": {},
   "outputs": [],
   "source": []
  }
 ],
 "metadata": {
  "kernelspec": {
   "display_name": "Python 3 (ipykernel)",
   "language": "python",
   "name": "python3"
  },
  "language_info": {
   "codemirror_mode": {
    "name": "ipython",
    "version": 3
   },
   "file_extension": ".py",
   "mimetype": "text/x-python",
   "name": "python",
   "nbconvert_exporter": "python",
   "pygments_lexer": "ipython3",
   "version": "3.10.9"
  }
 },
 "nbformat": 4,
 "nbformat_minor": 5
}
