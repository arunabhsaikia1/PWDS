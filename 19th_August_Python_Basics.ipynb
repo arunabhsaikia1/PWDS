{
 "cells": [
  {
   "cell_type": "markdown",
   "id": "fc299b45-fe9a-455e-949c-99a0a38c9ec0",
   "metadata": {},
   "source": [
    "### Python Basics Variable"
   ]
  },
  {
   "cell_type": "markdown",
   "id": "dde23060-3740-42ca-8c0f-0a5df6962cef",
   "metadata": {},
   "source": [
    "1. Declare two variables, `x` and `y`, and assign them integer values. Swap the values of these variables without using any temporary variable."
   ]
  },
  {
   "cell_type": "code",
   "execution_count": 6,
   "id": "a60d1164-91ff-4c4e-bc9f-0cc0cb48b738",
   "metadata": {},
   "outputs": [
    {
     "name": "stdout",
     "output_type": "stream",
     "text": [
      "22 4\n"
     ]
    }
   ],
   "source": [
    "# Assigning integer values to variables x and y\n",
    "x = 4\n",
    "y = 22\n",
    "\n",
    "# Swapping the values of x and y without temporary variable\n",
    "x, y = y, x\n",
    "\n",
    "# Printing x and y\n",
    "print(x, y)\n"
   ]
  },
  {
   "cell_type": "markdown",
   "id": "952183ef-5039-433c-a50c-176be028e285",
   "metadata": {},
   "source": [
    "2. Create a program that calculates the area of a rectangle. Take the length and width as inputs from the user and store them in variables. Calculate and display the area."
   ]
  },
  {
   "cell_type": "code",
   "execution_count": 12,
   "id": "589fb03b-5b6c-4d37-8482-05cae91d2289",
   "metadata": {},
   "outputs": [
    {
     "name": "stdin",
     "output_type": "stream",
     "text": [
      "Length of the Rectangle:  3\n",
      "Width of the Rectangle:  4\n"
     ]
    },
    {
     "name": "stdout",
     "output_type": "stream",
     "text": [
      "The Area of the Rectangle is 12.0\n"
     ]
    }
   ],
   "source": [
    "# Taking user inputs for Length and Width of the Rectangle and storing them in variables a and b\n",
    "a = float(input(\"Length of the Rectangle: \"))\n",
    "b = float(input(\"Width of the Rectangle: \"))\n",
    "\n",
    "# Calculate the Area of the Rectang;e\n",
    "area = a*b\n",
    "\n",
    "# Printing the Are of the Rectangle\n",
    "print(\"The Area of the Rectangle is\", area)"
   ]
  },
  {
   "cell_type": "markdown",
   "id": "63458904-5442-44d6-b144-e345c480d502",
   "metadata": {},
   "source": [
    "3. Write a Python program that converts temperatures from Celsius to Fahrenheit. Take the temperature in Celsius as input, store it in a variable, convert it to Fahrenheit, and display the result."
   ]
  },
  {
   "cell_type": "code",
   "execution_count": 16,
   "id": "45061207-8f92-4dbb-b8ac-d6f6cc2f2ed2",
   "metadata": {},
   "outputs": [
    {
     "name": "stdin",
     "output_type": "stream",
     "text": [
      "Temperature in Celsius:  33\n"
     ]
    },
    {
     "name": "stdout",
     "output_type": "stream",
     "text": [
      "Temperature in Fahrenheit: 91.4\n"
     ]
    }
   ],
   "source": [
    "# Taking user input for temperature in Celsius and assigning it to a variable C\n",
    "C = float(input(\"Temperature in Celsius: \"))\n",
    "\n",
    "# Convert temperature from Celsius to Fahrenheit\n",
    "F = C * (9/5) + 32\n",
    "\n",
    "# Printing temperature in Fahrenheit\n",
    "print(\"Temperature in Fahrenheit:\", F)"
   ]
  },
  {
   "cell_type": "markdown",
   "id": "f8ee1d74-0d3f-45d6-a388-22488f5a64ba",
   "metadata": {},
   "source": [
    "\n",
    "\n",
    "\n",
    "### \n",
    "\n",
    "### String Based Questions"
   ]
  },
  {
   "cell_type": "markdown",
   "id": "571bff6e-213c-4615-acc8-90d58a23ea67",
   "metadata": {},
   "source": [
    "1. Write a Python program that takes a string as input and prints the length of the string."
   ]
  },
  {
   "cell_type": "code",
   "execution_count": 19,
   "id": "f20d6061-7bd5-48d3-abcc-dee97dd809c7",
   "metadata": {},
   "outputs": [
    {
     "name": "stdin",
     "output_type": "stream",
     "text": [
      "String:  How you doin?\n"
     ]
    },
    {
     "name": "stdout",
     "output_type": "stream",
     "text": [
      "Length of the String is: 13\n"
     ]
    }
   ],
   "source": [
    "# Taking a string as input and assigning it to a variable s\n",
    "s = input(\"String: \")\n",
    "\n",
    "# Printing the Length of the String\n",
    "print(\"Length of the String is:\", len(s))"
   ]
  },
  {
   "cell_type": "markdown",
   "id": "f9e0da19-6d5d-48d0-903b-317410511449",
   "metadata": {},
   "source": [
    "2. Create a program that takes a sentence from the user and counts the number of vowels (a, e, i, o, u) in the string."
   ]
  },
  {
   "cell_type": "code",
   "execution_count": 21,
   "id": "5ea70988-c2f2-4a0d-8fd9-f9dcd116db7a",
   "metadata": {},
   "outputs": [
    {
     "name": "stdin",
     "output_type": "stream",
     "text": [
      "Sentence:  \"I love Python!\"\n"
     ]
    },
    {
     "name": "stdout",
     "output_type": "stream",
     "text": [
      "Number of vowels in the sentence 4\n"
     ]
    }
   ],
   "source": [
    "# Taking input from user\n",
    "s = input(\"Sentence: \")\n",
    "\n",
    "# Creating a list of the vowels in the alphabet\n",
    "v = [\"a\", \"e\", \"i\", \"o\", \"u\"]\n",
    "\n",
    "# Creating a counter variable and assigning it to 0\n",
    "count = 0\n",
    "\n",
    "# Count the number of vowels in the sentence\n",
    "for i in s.lower():\n",
    "    if i in v:\n",
    "        count += 1\n",
    "    \n",
    "# Print the result\n",
    "print(\"Number of vowels in the sentence\", count)"
   ]
  },
  {
   "cell_type": "markdown",
   "id": "ca3b7a91-e1cb-44de-ba64-78d84a998270",
   "metadata": {},
   "source": [
    "3. Given a string, reverse the order of characters using string slicing and print the reversed string."
   ]
  },
  {
   "cell_type": "code",
   "execution_count": 22,
   "id": "9b66419e-4e2d-40ef-bf55-5f45acb9c2fe",
   "metadata": {},
   "outputs": [
    {
     "name": "stdin",
     "output_type": "stream",
     "text": [
      "String:  Hello\n"
     ]
    },
    {
     "name": "stdout",
     "output_type": "stream",
     "text": [
      "olleH\n"
     ]
    }
   ],
   "source": [
    "# Taking user input\n",
    "s = input(\"String: \")\n",
    "\n",
    "# Print the reversed String\n",
    "print(s[::-1])"
   ]
  },
  {
   "cell_type": "markdown",
   "id": "3e13cc92-5117-4268-b919-68f7fb8fd430",
   "metadata": {},
   "source": [
    "4. Write a program that takes a string as input and checks if it is a palindrome (reads the same forwards and backwards)."
   ]
  },
  {
   "cell_type": "code",
   "execution_count": 30,
   "id": "64544e12-4d7f-4e60-859c-6b7fa08677bb",
   "metadata": {},
   "outputs": [
    {
     "name": "stdin",
     "output_type": "stream",
     "text": [
      "String:  Radar\n"
     ]
    },
    {
     "name": "stdout",
     "output_type": "stream",
     "text": [
      "It is a Palindrome\n"
     ]
    }
   ],
   "source": [
    "# Taking user input\n",
    "s = input(\"String: \").lower()\n",
    "\n",
    "# Check if Palindrome and print\n",
    "if s == s[::-1]:\n",
    "    print(\"It is a Palindrome\")\n",
    "else:\n",
    "    print(\"It is not a Palindrome\")"
   ]
  },
  {
   "cell_type": "markdown",
   "id": "88ccca31-e072-4e33-b795-4eddceb0b491",
   "metadata": {},
   "source": [
    "5. Create a program that takes a string as input and removes all the spaces from\n",
    "it. Print the modified string without spaces."
   ]
  },
  {
   "cell_type": "code",
   "execution_count": 35,
   "id": "fe856b3c-5d06-4d10-820a-84d5fb393101",
   "metadata": {},
   "outputs": [
    {
     "name": "stdin",
     "output_type": "stream",
     "text": [
      "String:    Gobi Manchurian \n"
     ]
    },
    {
     "name": "stdout",
     "output_type": "stream",
     "text": [
      "GobiManchurian\n"
     ]
    }
   ],
   "source": [
    "# Taking user input\n",
    "s = input(\"String: \")\n",
    "\n",
    "# Remove all spaces from String\n",
    "s1 = s.replace(\" \", \"\")\n",
    "\n",
    "# Print the string without spaces\n",
    "print(s1)"
   ]
  },
  {
   "cell_type": "code",
   "execution_count": null,
   "id": "b8e04214-1e85-413b-ade2-4e9eb5a1fb6c",
   "metadata": {},
   "outputs": [],
   "source": []
  }
 ],
 "metadata": {
  "kernelspec": {
   "display_name": "Python 3 (ipykernel)",
   "language": "python",
   "name": "python3"
  },
  "language_info": {
   "codemirror_mode": {
    "name": "ipython",
    "version": 3
   },
   "file_extension": ".py",
   "mimetype": "text/x-python",
   "name": "python",
   "nbconvert_exporter": "python",
   "pygments_lexer": "ipython3",
   "version": "3.10.8"
  }
 },
 "nbformat": 4,
 "nbformat_minor": 5
}
